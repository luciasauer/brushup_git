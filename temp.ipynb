{
 "cells": [
  {
   "cell_type": "code",
   "execution_count": 1,
   "metadata": {},
   "outputs": [
    {
     "name": "stdout",
     "output_type": "stream",
     "text": [
      "59.0\n"
     ]
    }
   ],
   "source": [
    "def c_to_f(celsius):\n",
    "    fahrenheit = celsius*9/5+32\n",
    "    return fahrenheit\n",
    "celsius = 15\n",
    "print(c_to_f(celsius))"
   ]
  },
  {
   "cell_type": "markdown",
   "metadata": {},
   "source": [
    "### Ensure that the input is a number"
   ]
  },
  {
   "cell_type": "code",
   "execution_count": 2,
   "metadata": {},
   "outputs": [
    {
     "name": "stdout",
     "output_type": "stream",
     "text": [
      "59.0\n"
     ]
    }
   ],
   "source": [
    "def c_to_f(celsius):\n",
    "    if isinstance(celsius, (int, float)):  # Verifica si es int o float\n",
    "        fahrenheit = celsius * 9 / 5 + 32\n",
    "        return fahrenheit\n",
    "    else:\n",
    "        return \"Error: El valor ingresado no es un número.\"\n",
    "\n",
    "# Ejemplo de uso\n",
    "celsius = 15\n",
    "print(c_to_f(celsius))"
   ]
  },
  {
   "cell_type": "markdown",
   "metadata": {},
   "source": [
    "### LIST INPUT"
   ]
  },
  {
   "cell_type": "code",
   "execution_count": 3,
   "metadata": {},
   "outputs": [
    {
     "name": "stdout",
     "output_type": "stream",
     "text": [
      "59.0\n",
      "abc  is not a number\n",
      "[32.0, 59.0, 86.0, 'Error: It is not a number', 212.0]\n"
     ]
    }
   ],
   "source": [
    "def c_to_f(celsius):\n",
    "    # LIST\n",
    "    if isinstance(celsius, list):\n",
    "        fahrenheit_list = []\n",
    "        for temp in celsius:\n",
    "            if isinstance(temp, (int, float)):  #Verify if the input is float or int\n",
    "                fahrenheit_list.append(temp * 9 / 5 + 32)\n",
    "            else:\n",
    "                print(temp,' is not a number')\n",
    "                fahrenheit_list.append(\"Error: It is not a number\")\n",
    "        return fahrenheit_list\n",
    "    \n",
    "    # ONE VALUE\n",
    "    elif isinstance(celsius, (int, float)):\n",
    "        return celsius * 9 / 5 + 32\n",
    "    \n",
    "    else:\n",
    "        return \"Error: The input value is not a number or it is not a list of numbers\"\n",
    "\n",
    "# Example\n",
    "celsius_single = 15\n",
    "celsius_list = [0, 15, 30, \"abc\", 100]\n",
    "\n",
    "print(c_to_f(celsius_single))  \n",
    "print(c_to_f(celsius_list))    "
   ]
  },
  {
   "cell_type": "code",
   "execution_count": 4,
   "metadata": {},
   "outputs": [
    {
     "name": "stdout",
     "output_type": "stream",
     "text": [
      "15 degrees celsius is equal to  59.0  degrees fahrenheit\n"
     ]
    }
   ],
   "source": [
    "def c_to_f(celsius):\n",
    "    if isinstance(celsius, (int, float)):  # Verifica si es int o float\n",
    "        fahrenheit = celsius * 9 / 5 + 32\n",
    "        return fahrenheit\n",
    "    else:\n",
    "        return \"Error: El valor ingresado no es un número.\"\n",
    "\n",
    "# Ejemplo de uso\n",
    "celsius = 15\n",
    "print(celsius, 'degrees celsius is equal to ',c_to_f(celsius),' degrees fahrenheit')"
   ]
  }
 ],
 "metadata": {
  "kernelspec": {
   "display_name": "env_example",
   "language": "python",
   "name": "python3"
  },
  "language_info": {
   "codemirror_mode": {
    "name": "ipython",
    "version": 3
   },
   "file_extension": ".py",
   "mimetype": "text/x-python",
   "name": "python",
   "nbconvert_exporter": "python",
   "pygments_lexer": "ipython3",
   "version": "3.12.5"
  }
 },
 "nbformat": 4,
 "nbformat_minor": 2
}
